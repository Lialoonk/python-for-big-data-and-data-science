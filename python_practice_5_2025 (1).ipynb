{
  "nbformat": 4,
  "nbformat_minor": 0,
  "metadata": {
    "colab": {
      "provenance": []
    },
    "kernelspec": {
      "name": "python3",
      "display_name": "Python 3"
    },
    "language_info": {
      "name": "python"
    }
  },
  "cells": [
    {
      "cell_type": "markdown",
      "source": [
        "# I. OOP"
      ],
      "metadata": {
        "id": "5qV_sehzFCTp"
      }
    },
    {
      "cell_type": "markdown",
      "source": [
        "1. (6б). Створіть клас Building, додайте три атрибути, один з яких має значення за замовчуванням та два методи на свій розсуд."
      ],
      "metadata": {
        "id": "tx_U_hOALyfg"
      }
    },
    {
      "cell_type": "code",
      "source": [
        "class Building:\n",
        "    def __init__(self, floors, color, material=\"brick\"):\n",
        "        self.floors = floors\n",
        "        self.color = color\n",
        "        self.material = material\n",
        "\n",
        "    def description(self):\n",
        "        return f\"This building has {self.floors} floors and is painted {self.color}.\"\n",
        "\n",
        "    def is_high_rise(self):\n",
        "        return self.floors > 5"
      ],
      "metadata": {
        "id": "-Vf895KaL88N"
      },
      "execution_count": null,
      "outputs": []
    },
    {
      "cell_type": "markdown",
      "source": [
        "2. (2б). Створіть два обʼєкти цього класу, де один з обʼєктів створюється із дефолтним значенням атрибуту. На одному обʼєкті отримайте значення його атрибуту, а на іншому викличте один з його методів."
      ],
      "metadata": {
        "id": "X_UlOMB0L93w"
      }
    },
    {
      "cell_type": "code",
      "source": [
        "# Обʼєкт з дефолтним значенням матеріалу\n",
        "house = Building(2, \"blue\")\n",
        "\n",
        "# Обʼєкт з усіма вказаними значеннями\n",
        "skyscraper = Building(10, \"grey\", \"concrete\")\n",
        "\n",
        "# Виведення значення атрибута\n",
        "print(house.material)\n",
        "\n",
        "# Виклик методу\n",
        "print(skyscraper.description())"
      ],
      "metadata": {
        "id": "7gBu0ESOMCpG",
        "colab": {
          "base_uri": "https://localhost:8080/"
        },
        "outputId": "ba8f392c-12da-46e3-c2c2-f7b2e6806d8a"
      },
      "execution_count": null,
      "outputs": [
        {
          "output_type": "stream",
          "name": "stdout",
          "text": [
            "brick\n",
            "This building has 10 floors and is painted grey.\n"
          ]
        }
      ]
    },
    {
      "cell_type": "markdown",
      "source": [
        "3. (5б). Створіть клас, де атрибути мають різні рівні доступу. Спробуйте отримати їхні значення та опишіть результати."
      ],
      "metadata": {
        "id": "HoqSCZt1MHn5"
      }
    },
    {
      "cell_type": "code",
      "source": [
        "class Device:\n",
        "    def __init__(self):\n",
        "        self.name = \"Tablet\"             # публічний атрибут\n",
        "        self._version = \"v2.1\"           # protected (захищений)\n",
        "        self.__password = \"qwerty\"       # private (приватний)\n",
        "\n",
        "# створення об'єкта\n",
        "gadget = Device()\n",
        "\n",
        "# доступ до публічного атрибута\n",
        "print(\"Name:\", gadget.name)\n",
        "\n",
        "# доступ до захищеного (не заборонений, але небажаний)\n",
        "print(\"Version:\", gadget._version)\n",
        "\n",
        "# прямий доступ до приватного (викличе помилку, закоментовано)\n",
        "# print(gadget.__password)\n",
        "\n",
        "# обхід для доступу до приватного (так можна дістати значення)\n",
        "print(\"Password:\", gadget._Device__password)"
      ],
      "metadata": {
        "id": "r9b3vJxBMSPV",
        "colab": {
          "base_uri": "https://localhost:8080/"
        },
        "outputId": "be922a3e-0ddd-4d5a-d4e3-0fa2ec48ddc9"
      },
      "execution_count": 8,
      "outputs": [
        {
          "output_type": "stream",
          "name": "stdout",
          "text": [
            "Name: Tablet\n",
            "Version: v2.1\n",
            "Password: qwerty\n"
          ]
        }
      ]
    },
    {
      "cell_type": "markdown",
      "source": [
        "Ми створили обʼєкт класу Device і спробували отримати значення трьох атрибутів. Публічний атрибут name вивівся без проблем. Захищений атрибут _version теж можна прочитати напряму, хоча це не рекомендується, бо він призначений для внутрішнього використання. Приватний атрибут __password не можна отримати стандартним способом при спробі доступу виникає помилка. Але його все одно можна вивести, якщо звертатися через спеціальне імʼя object._ClassName__attribute, тобто gadget._Device__password."
      ],
      "metadata": {
        "id": "8Z8WHZoluFJX"
      }
    },
    {
      "cell_type": "code",
      "source": [],
      "metadata": {
        "id": "IDRNTFU1qIwm"
      },
      "execution_count": 10,
      "outputs": []
    },
    {
      "cell_type": "markdown",
      "source": [
        "4. (7б). Як ви розумієте термін self? Для чого використовується метод __init __?"
      ],
      "metadata": {
        "id": "5op2m2vgMSkZ"
      }
    },
    {
      "cell_type": "markdown",
      "source": [
        "*Ключове слово self — це посилання на поточний обʼєкт класу. Воно дозволяє звертатись до змінних та методів цього конкретного обʼєкта. Метод __init__ викликається автоматично при створенні нового обʼєкта і дозволяє задати початкові значення для атрибутів.\n",
        "\n"
      ],
      "metadata": {
        "id": "DyiPqNRvMasx"
      }
    },
    {
      "cell_type": "markdown",
      "source": [
        "5. (9б). Створіть клас 3D-фігура без атрибутів, з методом get_volume для отримання об'єму фігури, що повертає 0 та __add __, який приймає self та other в якості аргументів, а повертає суму об'ємів 3d-фігур self та other."
      ],
      "metadata": {
        "id": "-6X8EGfjMd2y"
      }
    },
    {
      "cell_type": "code",
      "source": [
        "class Shape3D:\n",
        "    def get_volume(self):\n",
        "        return 0\n",
        "\n",
        "    def __add__(self, other):\n",
        "        return self.get_volume() + other.get_volume()"
      ],
      "metadata": {
        "id": "4rvO_wYUMaEr"
      },
      "execution_count": 11,
      "outputs": []
    },
    {
      "cell_type": "markdown",
      "source": [
        "6. (11б). Створіть 2 дочірніх класи від 3d-фігура: Циліндр та Куб, які мають атрибути, необхідні для розрахунку об'єму. Визначте метод get_volume в кожному з них так, щоби вони розраховували об'єм у залежності від формули для кожного типу фігури. Створіть обʼєкт класу Циліндр та обʼєкт класу Куб. Виконайте операцію суми за допомогою оператора + між ними, аби знайти сумарний об'єм."
      ],
      "metadata": {
        "id": "SFcKnnv5Mo_z"
      }
    },
    {
      "cell_type": "code",
      "source": [
        "import math\n",
        "\n",
        "class Cylinder(Shape3D):\n",
        "    def __init__(self, radius, height):\n",
        "        self.radius = radius\n",
        "        self.height = height\n",
        "\n",
        "    def get_volume(self):\n",
        "        return math.pi * self.radius**2 * self.height\n",
        "\n",
        "class Cube(Shape3D):\n",
        "    def __init__(self, side):\n",
        "        self.side = side\n",
        "\n",
        "    def get_volume(self):\n",
        "        return self.side**3\n",
        "\n",
        "# Створюємо об'єкти\n",
        "cyl = Cylinder(2, 5)\n",
        "cub = Cube(3)\n",
        "\n",
        "# Сума обʼємів\n",
        "total_volume = cyl + cub\n",
        "print(\"Загальний обʼєм:\", total_volume)\n"
      ],
      "metadata": {
        "id": "H3GVNr69Muf3",
        "colab": {
          "base_uri": "https://localhost:8080/"
        },
        "outputId": "07c638af-41d9-45b2-aba3-cba39cdae204"
      },
      "execution_count": 12,
      "outputs": [
        {
          "output_type": "stream",
          "name": "stdout",
          "text": [
            "Загальний обʼєм: 89.83185307179586\n"
          ]
        }
      ]
    },
    {
      "cell_type": "markdown",
      "source": [
        "7. (3б). Продемонструйте різницю між isinstance та issubclass."
      ],
      "metadata": {
        "id": "HCvR206YMvLK"
      }
    },
    {
      "cell_type": "code",
      "source": [
        "class Animal:\n",
        "    pass\n",
        "\n",
        "class Dog(Animal):\n",
        "    pass\n",
        "\n",
        "dog1 = Dog()\n",
        "\n",
        "# isinstance перевіряє, чи об'єкт є об'єктом класу або його підкласу\n",
        "print(isinstance(dog1, Dog))      # True\n",
        "print(isinstance(dog1, Animal))   # True\n",
        "\n",
        "# issubclass перевіряє, чи є клас нащадком іншого класу\n",
        "print(issubclass(Dog, Animal))    # True\n",
        "print(issubclass(Animal, Dog))    # False\n"
      ],
      "metadata": {
        "id": "L_V1bBvDM0GN",
        "colab": {
          "base_uri": "https://localhost:8080/"
        },
        "outputId": "70293ba7-80a9-4250-fb5f-3b002997e467"
      },
      "execution_count": 13,
      "outputs": [
        {
          "output_type": "stream",
          "name": "stdout",
          "text": [
            "True\n",
            "True\n",
            "True\n",
            "False\n"
          ]
        }
      ]
    },
    {
      "cell_type": "markdown",
      "source": [
        "8. (13б). Створіть клас EWallet з приватними атрибутами balance та id. Реалізуйте методи поповнення та зняття коштів, забезпечивши належну інкапсуляцію. Підказка: використовуйте декоратори property та setter."
      ],
      "metadata": {
        "id": "jjsaBZ-iM0Qq"
      }
    },
    {
      "cell_type": "code",
      "source": [
        "class EWallet:\n",
        "    def __init__(self, wallet_id, initial_balance=0):\n",
        "        self.__id = wallet_id\n",
        "        self.__balance = initial_balance\n",
        "\n",
        "    @property\n",
        "    def balance(self):\n",
        "        return self.__balance\n",
        "\n",
        "    def deposit(self, amount):\n",
        "        if amount > 0:\n",
        "            self.__balance += amount\n",
        "        else:\n",
        "            print(\"Invalid deposit amount\")\n",
        "\n",
        "    def withdraw(self, amount):\n",
        "        if 0 < amount <= self.__balance:\n",
        "            self.__balance -= amount\n",
        "        else:\n",
        "            print(\"Insufficient funds or invalid amount\")\n",
        "\n",
        "    @property\n",
        "    def wallet_id(self):\n",
        "        return self.__id\n",
        "\n",
        "# Тестування\n",
        "my_wallet = EWallet(\"ABC123\", 100)\n",
        "print(\"Початковий баланс:\", my_wallet.balance)\n",
        "\n",
        "my_wallet.deposit(50)\n",
        "print(\"Після поповнення:\", my_wallet.balance)\n",
        "\n",
        "my_wallet.withdraw(30)\n",
        "print(\"Після зняття:\", my_wallet.balance)"
      ],
      "metadata": {
        "id": "xCvZ7lh8M7YA",
        "colab": {
          "base_uri": "https://localhost:8080/"
        },
        "outputId": "34abb816-4497-444d-b5c8-5a6440ce4211"
      },
      "execution_count": 14,
      "outputs": [
        {
          "output_type": "stream",
          "name": "stdout",
          "text": [
            "Початковий баланс: 100\n",
            "Після поповнення: 150\n",
            "Після зняття: 120\n"
          ]
        }
      ]
    },
    {
      "cell_type": "markdown",
      "source": [
        "9. (11б). Створіть клас ShoppingCart, який містить список об'єктів типу Item. Реалізуйте методи для додавання айтемів, їх видалення та відображення списку айтемів."
      ],
      "metadata": {
        "id": "tIzL2SJTM8ft"
      }
    },
    {
      "cell_type": "code",
      "source": [
        "class Item:\n",
        "    def __init__(self, name, price):\n",
        "        self.name = name\n",
        "        self.price = price\n",
        "\n",
        "class ShoppingCart:\n",
        "    def __init__(self):\n",
        "        self.items = []\n",
        "\n",
        "    def add_item(self, item):\n",
        "        self.items.append(item)\n",
        "\n",
        "    def remove_item(self, item_name):\n",
        "        self.items = [item for item in self.items if item.name != item_name]\n",
        "\n",
        "    def show_cart(self):\n",
        "        for item in self.items:\n",
        "            print(f\"{item.name}: ${item.price}\")\n",
        "\n",
        "# Тестування\n",
        "cart = ShoppingCart()\n",
        "cart.add_item(Item(\"Apple\", 1.5))\n",
        "cart.add_item(Item(\"Bread\", 2.3))\n",
        "cart.show_cart()\n",
        "\n",
        "cart.remove_item(\"Apple\")\n",
        "print(\"Після видалення:\")\n",
        "cart.show_cart()"
      ],
      "metadata": {
        "id": "HWxfJKLtNAUZ",
        "colab": {
          "base_uri": "https://localhost:8080/"
        },
        "outputId": "6a37cc53-cafd-4702-93d1-80f9ab9301bd"
      },
      "execution_count": 15,
      "outputs": [
        {
          "output_type": "stream",
          "name": "stdout",
          "text": [
            "Apple: $1.5\n",
            "Bread: $2.3\n",
            "Після видалення:\n",
            "Bread: $2.3\n"
          ]
        }
      ]
    },
    {
      "cell_type": "markdown",
      "source": [
        "10. (13б). Створіть клас Vehicle з атрибутами brand (manufacturer) та production_age. Створіть ще один клас Engine з такими атрибутами, як type (ex. petrol) та size (volume, litres). Створіть клас Car, який успадковує обидва класи Vehicle та Engine. Продемонструйте використання множинної спадковості, створивши обʼєкт класу Car та отримавши mro для цього класу."
      ],
      "metadata": {
        "id": "lmV8pAwwNIqu"
      }
    },
    {
      "cell_type": "code",
      "source": [
        "class Vehicle:\n",
        "    def __init__(self, brand, production_age):\n",
        "        self.brand = brand\n",
        "        self.production_age = production_age\n",
        "\n",
        "class Engine:\n",
        "    def __init__(self, type, size):\n",
        "        self.type = type\n",
        "        self.size = size\n",
        "\n",
        "class Car(Vehicle, Engine):\n",
        "    def __init__(self, brand, production_age, type, size):\n",
        "        Vehicle.__init__(self, brand, production_age)\n",
        "        Engine.__init__(self, type, size)\n",
        "\n",
        "# Створення об'єкта\n",
        "my_car = Car(\"Toyota\", 5, \"petrol\", 1.8)\n",
        "\n",
        "# Виведення атрибутів\n",
        "print(f\"Car brand: {my_car.brand}, Engine type: {my_car.type}, Size: {my_car.size}L\")\n",
        "\n",
        "# Method Resolution Order\n",
        "print(\"MRO:\", Car.__mro__)"
      ],
      "metadata": {
        "id": "R49grKlWNPeN",
        "colab": {
          "base_uri": "https://localhost:8080/"
        },
        "outputId": "d375d659-9b1a-41e2-dd0d-47ed593cd36b"
      },
      "execution_count": 16,
      "outputs": [
        {
          "output_type": "stream",
          "name": "stdout",
          "text": [
            "Car brand: Toyota, Engine type: petrol, Size: 1.8L\n",
            "MRO: (<class '__main__.Car'>, <class '__main__.Vehicle'>, <class '__main__.Engine'>, <class 'object'>)\n"
          ]
        }
      ]
    },
    {
      "cell_type": "markdown",
      "source": [
        "# II. Iterator"
      ],
      "metadata": {
        "id": "dIJyUiNBFG8G"
      }
    },
    {
      "cell_type": "markdown",
      "source": [
        "11. (4б). Визначте рядок(str) з 4ма різними за значенням символами. Створіть ітератор на основі цього рядка. Викличте 5 разів функцію next на ітераторі, 4ри перших з них огорніть у ф-цію print()."
      ],
      "metadata": {
        "id": "13vsm0NyKIzL"
      }
    },
    {
      "cell_type": "code",
      "source": [
        "text = \"abcd\"\n",
        "iterator = iter(text)\n",
        "\n",
        "print(next(iterator))  # 'a'\n",
        "print(next(iterator))  # 'b'\n",
        "print(next(iterator))  # 'c'\n",
        "print(next(iterator))  # 'd'\n",
        "\n",
        "# П'ятий виклик викликає помилку StopIteration, якщо його не обробити\n",
        "try:\n",
        "    print(next(iterator))\n",
        "except StopIteration:\n",
        "    print(\"Ітератор вичерпано\")"
      ],
      "metadata": {
        "id": "81ntabAkKuz-",
        "colab": {
          "base_uri": "https://localhost:8080/"
        },
        "outputId": "17202ba1-24f3-4617-effa-5f7294914c09"
      },
      "execution_count": 17,
      "outputs": [
        {
          "output_type": "stream",
          "name": "stdout",
          "text": [
            "a\n",
            "b\n",
            "c\n",
            "d\n",
            "Ітератор вичерпано\n"
          ]
        }
      ]
    },
    {
      "cell_type": "markdown",
      "source": [
        "А що якщо викликати цю ж функцію на рядку?"
      ],
      "metadata": {
        "id": "aekWHGXOLRsO"
      }
    },
    {
      "cell_type": "code",
      "source": [
        "# Спроба виклику next() без iter()\n",
        "try:\n",
        "    next(\"abcd\")\n",
        "except TypeError as e:\n",
        "    print(\"Помилка:\", e)"
      ],
      "metadata": {
        "id": "mxATGsErLV1i",
        "colab": {
          "base_uri": "https://localhost:8080/"
        },
        "outputId": "09060d70-04bd-4635-e66b-f265e5e3a042"
      },
      "execution_count": 18,
      "outputs": [
        {
          "output_type": "stream",
          "name": "stdout",
          "text": [
            "Помилка: 'str' object is not an iterator\n"
          ]
        }
      ]
    },
    {
      "cell_type": "markdown",
      "source": [
        " 12. (5б). Опишіть своїми словами в одному реченні, як ви розумієте різницю між ітерабельними обʼєктами та ітераторами (можна на прикладі)."
      ],
      "metadata": {
        "id": "XwtMEopwJ4pH"
      }
    },
    {
      "cell_type": "markdown",
      "source": [
        "Ітерабельний обʼєкт — це той, з якого можна створити ітератор (наприклад, рядок чи список),а ітератор це обʼєкт, який зберігає стан обходу і повертає елементи по одному через next()."
      ],
      "metadata": {
        "id": "-sHrODc3KFn8"
      }
    },
    {
      "cell_type": "markdown",
      "source": [
        "13. (11б). Створіть клас, що має визначений Iterator Protocol та при кожному виклику next повертає назву дня тижня, поки вони не вичерпаються. Зверніть увагу, що порядок має значення."
      ],
      "metadata": {
        "id": "E9qJWmNbK8Gl"
      }
    },
    {
      "cell_type": "code",
      "source": [
        "class WeekdaysIterator:\n",
        "    def __init__(self):\n",
        "        self.days = [\"Monday\", \"Tuesday\", \"Wednesday\", \"Thursday\", \"Friday\", \"Saturday\", \"Sunday\"]\n",
        "        self.index = 0\n",
        "\n",
        "    def __iter__(self):\n",
        "        return self\n",
        "\n",
        "    def __next__(self):\n",
        "        if self.index < len(self.days):\n",
        "            day = self.days[self.index]\n",
        "            self.index += 1\n",
        "            return day\n",
        "        else:\n",
        "            raise StopIteration\n",
        "\n",
        "# Тестування\n",
        "week = WeekdaysIterator()\n",
        "\n",
        "for day in week:\n",
        "    print(day)\n"
      ],
      "metadata": {
        "id": "cqx-g_RsLo6I",
        "colab": {
          "base_uri": "https://localhost:8080/"
        },
        "outputId": "583d16e0-2ec0-4ff9-96c9-617bd586c794"
      },
      "execution_count": 19,
      "outputs": [
        {
          "output_type": "stream",
          "name": "stdout",
          "text": [
            "Monday\n",
            "Tuesday\n",
            "Wednesday\n",
            "Thursday\n",
            "Friday\n",
            "Saturday\n",
            "Sunday\n"
          ]
        }
      ]
    },
    {
      "cell_type": "markdown",
      "source": [
        "# Вітаю! Ви велика(ий) молодець, що впоралась(вся). Похваліть себе та побалуйте чимось приємним. Я Вами пишаюся."
      ],
      "metadata": {
        "id": "Z3E3S_s1Fv7-"
      }
    }
  ]
}